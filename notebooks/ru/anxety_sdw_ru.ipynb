{
  "metadata": {
    "kernelspec": {
      "display_name": "Python 3",
      "name": "python3"
    },
    "language_info": {
      "name": "python",
      "version": "3.10.13",
      "mimetype": "text/x-python",
      "codemirror_mode": {
        "name": "ipython",
        "version": 3
      },
      "pygments_lexer": "ipython3",
      "nbconvert_exporter": "python",
      "file_extension": ".py"
    },
    "kaggle": {
      "accelerator": "nvidiaTeslaT4",
      "dataSources": [],
      "dockerImageVersionId": 30648,
      "isInternetEnabled": true,
      "language": "python",
      "sourceType": "notebook",
      "isGpuEnabled": true
    },
    "colab": {
      "provenance": [],
      "gpuType": "T4"
    },
    "accelerator": "GPU"
  },
  "nbformat_minor": 0,
  "nbformat": 4,
  "cells": [
    {
      "cell_type": "markdown",
      "source": [
        "# **~ ❄️ ANXETY | sd-webui | ULTIMATE ❄️ ~**\n",
        "\n",
        "<img src=\"https://count.getloli.com/get/@:Ayama-Colab?theme=rule34\" height=\"90px\" alt=\"Куда делись девочки?\"/>\n",
        "    \n",
        "##### Есть вопросы по изспользованию? Прочти: [FAQ](https://rentry.co/anxety-sdw-faq-ru)"
      ],
      "metadata": {
        "_uuid": "8f2839f25d086af736a60e9eeb907d3b93b6e0e5",
        "_cell_guid": "b1076dfc-b9ad-4769-8c92-a6c4dae69d19",
        "id": "-o_R5eQy3C7r"
      }
    },
    {
      "cell_type": "markdown",
      "source": [
        "# ! Загрузите файлы перед использованием 👇 !"
      ],
      "metadata": {
        "id": "eJiJff5u3C7z"
      }
    },
    {
      "cell_type": "code",
      "source": [
        "lang = \"ru\"\n",
        "\n",
        "# ================================================================\n",
        "# @title **\\~Запуск для скачивания~**\n",
        "''' Увы, вы видите этот код из-за тупости Kaggle :3 '''\n",
        "\n",
        "import os\n",
        "import shutil\n",
        "from IPython.utils import capture\n",
        "\n",
        "def detect_environment():\n",
        "    free_plan = (os.sysconf('SC_PAGE_SIZE') * os.sysconf('SC_PHYS_PAGES') / (1024 ** 3) <= 20)\n",
        "    environments = {\n",
        "        'COLAB_GPU': ('Google Colab', \"/root\" if free_plan else \"/content\"),\n",
        "        'KAGGLE_URL_BASE': ('Kaggle', \"/kaggle/working/content\")\n",
        "    }\n",
        "    for env_var, (environment, path) in environments.items():\n",
        "        if env_var in os.environ:\n",
        "            return environment, path, free_plan\n",
        "    print(\"\\033[31mОшибка: обнаружена неизвестная среда выполнения.\\n\\033[34mПоддерживаемые среды:\\033[0m Google Colab, Kaggle.\")\n",
        "    return None, None, None\n",
        "\n",
        "env, root_path, free_plan = detect_environment()\n",
        "\n",
        "if env and root_path:\n",
        "    webui_path = f\"{root_path}/sdw\"\n",
        "\n",
        "    print(f\"Среда выполнения: \\033[33m{env}\\033[0m\")\n",
        "    if env == \"Google Colab\":\n",
        "        print(f\"Подписка Colab Pro: \\033[34m{not free_plan}\\033[0m\")\n",
        "        print(f\"Расположение файлов: \\033[32m{root_path}\\033[0m\")\n",
        "    print(\"Пожалуйста, дождитесь загрузки файлов... 👀\", end='')\n",
        "\n",
        "    files_dict = { # save folder name | url folder path | files list\n",
        "        'CSS': {'CSS': ['main_widgets.css', 'auto_cleaner.css']},\n",
        "        'file_cell': {f'files_cells/python/{lang}': [f'widgets_{lang}.py', f'downloading_{lang}.py', f'launch_{lang}.py', f'auto_cleaner_{lang}.py']},\n",
        "        'file_cell/special': {f'special': ['dl_display_results.py']}\n",
        "    }\n",
        "    with capture.capture_output() as cap:\n",
        "        for folder, contents in files_dict.items():\n",
        "            folder_path = os.path.join(root_path, folder)\n",
        "\n",
        "            if os.path.exists(folder_path):\n",
        "                shutil.rmtree(folder_path)\n",
        "            os.makedirs(folder_path)\n",
        "\n",
        "            for path_url, files in contents.items():\n",
        "                for file in files:\n",
        "                    file_url = f\"https://huggingface.co/NagisaNao/fast_repo/resolve/main/{path_url}/{file}\"\n",
        "                    file_path = os.path.join(folder_path, file)\n",
        "                    os.system(f'wget -q {file_url} -O {file_path}')\n",
        "    del cap\n",
        "    print(f\"\\rГотово! Теперь вы можете запустить ячейки ниже. ☄️\" + \" \"*30)"
      ],
      "metadata": {
        "trusted": true,
        "id": "JERmZpc73C70",
        "cellView": "form"
      },
      "execution_count": null,
      "outputs": []
    },
    {
      "cell_type": "markdown",
      "source": [
        "---\n",
        "## 1. Виджеты 🔽"
      ],
      "metadata": {
        "id": "7Vp3PPQu3C72"
      }
    },
    {
      "cell_type": "code",
      "source": [
        "# Выбор моделей, vae, control-net и прочее.\n",
        "\n",
        "%run {root_path}/file_cell/widgets_{lang}.py"
      ],
      "metadata": {
        "trusted": true,
        "id": "AvPTeS2k3C73"
      },
      "execution_count": null,
      "outputs": []
    },
    {
      "cell_type": "markdown",
      "source": [
        "## 2. Загрузка 🔽"
      ],
      "metadata": {
        "id": "lJapmTPK3C73"
      }
    },
    {
      "cell_type": "code",
      "source": [
        "# Загрузка библиотек, репо, моделей и прочего.\n",
        "\n",
        "%run {root_path}/file_cell/downloading_{lang}.py"
      ],
      "metadata": {
        "trusted": true,
        "id": "6k4Fzd6t3C74"
      },
      "execution_count": null,
      "outputs": []
    },
    {
      "cell_type": "markdown",
      "source": [
        "## 3. Запуск 🔽"
      ],
      "metadata": {
        "id": "QaD7neX43C77"
      }
    },
    {
      "cell_type": "code",
      "source": [
        "# Запуск WebUI.\n",
        "\n",
        "%run {root_path}/file_cell/launch_{lang}.py"
      ],
      "metadata": {
        "trusted": true,
        "id": "EDF0rR943C78"
      },
      "execution_count": null,
      "outputs": []
    },
    {
      "cell_type": "markdown",
      "source": [
        "---\n",
        "# Утилиты"
      ],
      "metadata": {
        "id": "2PhQJji-lH0X"
      }
    },
    {
      "cell_type": "code",
      "source": [
        "# Запуск AutoCleaner.\n",
        "\n",
        "%run {root_path}/file_cell/auto_cleaner_{lang}.py"
      ],
      "metadata": {
        "id": "5H9B3pZDlHdc"
      },
      "execution_count": null,
      "outputs": []
    }
  ]
}