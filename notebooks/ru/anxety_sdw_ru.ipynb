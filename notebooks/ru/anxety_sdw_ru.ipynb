{
  "metadata": {
    "kernelspec": {
      "display_name": "Python 3",
      "name": "python3"
    },
    "language_info": {
      "name": "python",
      "version": "3.10.13",
      "mimetype": "text/x-python",
      "codemirror_mode": {
        "name": "ipython",
        "version": 3
      },
      "pygments_lexer": "ipython3",
      "nbconvert_exporter": "python",
      "file_extension": ".py"
    },
    "kaggle": {
      "accelerator": "nvidiaTeslaT4",
      "dataSources": [],
      "dockerImageVersionId": 30648,
      "isInternetEnabled": true,
      "language": "python",
      "sourceType": "notebook",
      "isGpuEnabled": true
    },
    "colab": {
      "provenance": [],
      "gpuType": "T4"
    },
    "accelerator": "GPU"
  },
  "nbformat_minor": 0,
  "nbformat": 4,
  "cells": [
    {
      "cell_type": "markdown",
      "source": [
        "# **~ ❄️ ANXETY | sd-webui | ULTIMATE ❄️ ~**\n",
        "\n",
        "<img src=\"https://count.getloli.com/get/@:Ayama-Colab?theme=rule34\" height=\"90px\" alt=\"Куда делись девочки?\"/>\n",
        "    \n",
        "##### Есть вопросы по изспользованию? Прочти: [FAQ](https://rentry.co/anxety-sdw-faq-ru)"
      ],
      "metadata": {
        "_uuid": "8f2839f25d086af736a60e9eeb907d3b93b6e0e5",
        "_cell_guid": "b1076dfc-b9ad-4769-8c92-a6c4dae69d19",
        "id": "-o_R5eQy3C7r"
      }
    },
    {
      "cell_type": "markdown",
      "source": [
        "# ! Загрузите файлы перед использованием 👇 !"
      ],
      "metadata": {
        "id": "eJiJff5u3C7z"
      }
    },
    {
      "cell_type": "code",
      "source": [
        "lang = \"ru\"\n",
        "testing = False\n",
        "\n",
        "# ==============================================================================\n",
        "# @title **\\~Запуск для скачивания~**\n",
        "''' НЕ ТРОГАТЬ :3 '''\n",
        "import os\n",
        "repo = 'fast_repo' if not testing else 'test'\n",
        "if os.path.exists(f'~/setup_{lang}.py'):\n",
        "    os.remove(f'~/setup_{lang}.py')\n",
        "!curl -sLo ~/setup_{lang}.py https://huggingface.co/NagisaNao/{repo}/raw/main/modules/setup_{lang}.py\n",
        "%run ~/setup_{lang}.py --lang {lang} --repo {repo}\n",
        "root_path = os.environ.get('ROOT_PATH')"
      ],
      "metadata": {
        "trusted": true,
        "id": "JERmZpc73C70",
        "cellView": "form"
      },
      "execution_count": null,
      "outputs": []
    },
    {
      "cell_type": "markdown",
      "source": [
        "---\n",
        "## 1. Виджеты 🔽"
      ],
      "metadata": {
        "id": "7Vp3PPQu3C72"
      }
    },
    {
      "cell_type": "code",
      "source": [
        "# Выбор моделей, vae, control-net и прочее.\n",
        "\n",
        "%run {root_path}/file_cell/widgets_{lang}.py"
      ],
      "metadata": {
        "trusted": true,
        "id": "AvPTeS2k3C73"
      },
      "execution_count": null,
      "outputs": []
    },
    {
      "cell_type": "markdown",
      "source": [
        "## 2. Загрузка 🔽"
      ],
      "metadata": {
        "id": "lJapmTPK3C73"
      }
    },
    {
      "cell_type": "code",
      "source": [
        "# Загрузка библиотек, репо, моделей и прочего.\n",
        "\n",
        "%run {root_path}/file_cell/downloading_{lang}.py"
      ],
      "metadata": {
        "trusted": true,
        "id": "6k4Fzd6t3C74"
      },
      "execution_count": null,
      "outputs": []
    },
    {
      "cell_type": "markdown",
      "source": [
        "## 3. Запуск 🔽"
      ],
      "metadata": {
        "id": "QaD7neX43C77"
      }
    },
    {
      "cell_type": "code",
      "source": [
        "# Запуск WebUI.\n",
        "\n",
        "%run {root_path}/file_cell/launch_{lang}.py"
      ],
      "metadata": {
        "trusted": true,
        "id": "EDF0rR943C78"
      },
      "execution_count": null,
      "outputs": []
    },
    {
      "cell_type": "markdown",
      "source": [
        "---\n",
        "# Утилиты"
      ],
      "metadata": {
        "id": "2PhQJji-lH0X"
      }
    },
    {
      "cell_type": "code",
      "source": [
        "# Запуск AutoCleaner.\n",
        "\n",
        "%run {root_path}/file_cell/auto_cleaner_{lang}.py"
      ],
      "metadata": {
        "id": "5H9B3pZDlHdc"
      },
      "execution_count": null,
      "outputs": []
    }
  ]
}