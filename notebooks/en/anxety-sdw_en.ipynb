{
  "metadata": {
    "kernelspec": {
      "display_name": "Python 3",
      "name": "python3"
    },
    "language_info": {
      "name": "python",
      "version": "3.10.13",
      "mimetype": "text/x-python",
      "codemirror_mode": {
        "name": "ipython",
        "version": 3
      },
      "pygments_lexer": "ipython3",
      "nbconvert_exporter": "python",
      "file_extension": ".py"
    },
    "kaggle": {
      "accelerator": "nvidiaTeslaT4",
      "dataSources": [],
      "dockerImageVersionId": 30648,
      "isInternetEnabled": true,
      "language": "python",
      "sourceType": "notebook",
      "isGpuEnabled": true
    },
    "colab": {
      "provenance": [],
      "gpuType": "T4"
    },
    "accelerator": "GPU"
  },
  "nbformat_minor": 0,
  "nbformat": 4,
  "cells": [
    {
      "cell_type": "markdown",
      "source": [
        "# **~ ❄️ ANXETY | sd-webui | ULTIMATE ❄️ ~**\n",
        "\n",
        "<!--\n",
        "<small><font color=gray>Version from: 25-03-24</small>\n",
        "  \n",
        "<details>\n",
        "    <summary><font color=gray>News:</summary>\n",
        "\n",
        "```diff\n",
        "~\n",
        "```\n",
        "\n",
        "</details>\n",
        "-->\n",
        "\n",
        "<img src=\"https://count.getloli.com/get/@:Ayama-Colab?theme=rule34\" height=\"90px\" alt=\"Where did the girls go?\"/>\n",
        "    \n",
        "##### Have questions about usage? Read: [FAQ](https://rentry.co/anxety-sdw-faq-en)"
      ],
      "metadata": {
        "_uuid": "8f2839f25d086af736a60e9eeb907d3b93b6e0e5",
        "_cell_guid": "b1076dfc-b9ad-4769-8c92-a6c4dae69d19",
        "id": "-4ag6mrk9nPM"
      }
    },
    {
      "cell_type": "markdown",
      "source": [
        "# ! Download files before use 👇 !"
      ],
      "metadata": {
        "id": "8uVgHXCA9nPT"
      }
    },
    {
      "cell_type": "code",
      "source": [
        "lang = \"en\"\n",
        "\n",
        "# ================================================================\n",
        "import os\n",
        "from IPython.utils import capture\n",
        "\n",
        "def detect_environment():\n",
        "    free_plan = (os.sysconf('SC_PAGE_SIZE') * os.sysconf('SC_PHYS_PAGES') / (1024. ** 3) <= 20)\n",
        "    environments = {\n",
        "        'COLAB_GPU': ('Google Colab', \"/root\" if free_plan else \"/content\"),\n",
        "        'KAGGLE_URL_BASE': ('Kaggle', \"/kaggle/working/content\"),\n",
        "        'SAGEMAKER_INTERNAL_IMAGE_URI': ('SageMaker Studio Lab', \"/home/studio-lab-user/content\")\n",
        "    }\n",
        "\n",
        "    for env_var, (environment, path) in environments.items():\n",
        "        if env_var in os.environ:\n",
        "            return environment, path, free_plan\n",
        "\n",
        "    print(\"\\033[31mError: an unsupported runtime environment was detected.\\n\\033[34mSupported environments:\\033[0m Google Colab, Kaggle, Sagemaker Studio Lab\")\n",
        "    return None, None\n",
        "\n",
        "env, root_path, free_plan = detect_environment()\n",
        "if env and root_path:\n",
        "    webui_path = f\"{root_path}/sdw\"\n",
        "\n",
        "    print(f\"Runtime environment: \\033[33m{env}\\033[0m\")\n",
        "    # Colab Plan\n",
        "    if env == \"Google Colab\":\n",
        "        print(f\"Colab Pro subscription: \\033[34m{not free_plan}\\033[0m\")\n",
        "        print(f\"File location: \\033[32m{root_path}\\033[0m\")\n",
        "\n",
        "    print(\"Please wait for the files to download.... 👀\", end='')\n",
        "    with capture.capture_output() as cap:\n",
        "        files = [f'widgets_{lang}.py', f'downloading_{lang}.py', f'launch_{lang}.py', f'auto-cleaner_{lang}.py']\n",
        "        folder_path = f'{root_path}/file_cell'\n",
        "\n",
        "        if os.path.exists(folder_path):\n",
        "            !rm -rf {folder_path}\n",
        "\n",
        "        !mkdir -p {folder_path}\n",
        "\n",
        "        for file in files:\n",
        "            !wget -q https://huggingface.co/NagisaNao/fast_repo/resolve/main/files_cells/python/{lang}/{file} -O {folder_path}/{file}\n",
        "\n",
        "    del cap\n",
        "    print(\"\\rDone! Now you can run the cells below. ☄️\" + \" \"*30)"
      ],
      "metadata": {
        "trusted": true,
        "id": "vGeshEi-9nPW"
      },
      "execution_count": null,
      "outputs": []
    },
    {
      "cell_type": "markdown",
      "source": [
        "---\n",
        "## 1. Widgets 🔽"
      ],
      "metadata": {
        "id": "IpO6mjfh9nPZ"
      }
    },
    {
      "cell_type": "code",
      "source": [
        "# Model selection, vae, control-net and more.\n",
        "\n",
        "%run {root_path}/file_cell/widgets_{lang}.py"
      ],
      "metadata": {
        "trusted": true,
        "id": "ESev1FW19nPZ"
      },
      "execution_count": null,
      "outputs": []
    },
    {
      "cell_type": "markdown",
      "source": [
        "## 2. Downloading 🔽"
      ],
      "metadata": {
        "id": "ceGlhVmz9nPa"
      }
    },
    {
      "cell_type": "code",
      "source": [
        "# Downloading libraries, repos, models and more.\n",
        "# Installing libraries can take about 5 minutes~\n",
        "\n",
        "%run {root_path}/file_cell/downloading_{lang}.py"
      ],
      "metadata": {
        "trusted": true,
        "id": "RcS8VYwC9nPb"
      },
      "execution_count": null,
      "outputs": []
    },
    {
      "cell_type": "markdown",
      "source": [
        "## 3. Launch 🔽"
      ],
      "metadata": {
        "id": "EcgFeRe29nPb"
      }
    },
    {
      "cell_type": "code",
      "source": [
        "# Start WebUI.\n",
        "\n",
        "%run {root_path}/file_cell/launch_{lang}.py"
      ],
      "metadata": {
        "trusted": true,
        "id": "qkF7MEcn9nPc"
      },
      "execution_count": null,
      "outputs": []
    },
    {
      "cell_type": "markdown",
      "source": [
        "---\n",
        "# Utilities"
      ],
      "metadata": {
        "id": "kOr5ryh6lrFT"
      }
    },
    {
      "cell_type": "code",
      "source": [
        "# Start AutoCleaner.\n",
        "\n",
        "%run {root_path}/file_cell/auto-cleaner_{lang}.py"
      ],
      "metadata": {
        "id": "Pjhp65r7lqhv"
      },
      "execution_count": null,
      "outputs": []
    }
  ]
}