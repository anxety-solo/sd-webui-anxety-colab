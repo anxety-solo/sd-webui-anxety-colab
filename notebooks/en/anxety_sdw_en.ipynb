{
  "cells": [
    {
      "cell_type": "markdown",
      "metadata": {
        "id": "-4ag6mrk9nPM"
      },
      "source": [
        "# **~ ❄️ ANXETY | sd-webui | ULTIMATE ❄️ ~**\n",
        "\n",
        "<img src=\"https://count.getloli.com/get/@:Ayama-Colab?theme=rule34\" height=\"90px\" alt=\"Where did the girls go?\"/>\n",
        "    \n",
        "##### Have questions about usage? Read: [FAQ](https://rentry.co/anxety-sdw-faq-en)"
      ]
    },
    {
      "cell_type": "markdown",
      "metadata": {
        "id": "8uVgHXCA9nPT"
      },
      "source": [
        "# ! Download files before use 👇 !"
      ]
    },
    {
      "cell_type": "code",
      "execution_count": null,
      "metadata": {
        "id": "vGeshEi-9nPW",
        "cellView": "form"
      },
      "outputs": [],
      "source": [
        "lang = \"en\"\n",
        "testing = False\n",
        "\n",
        "# ================================================================\n",
        "# @title **\\~Launch to download~**\n",
        "''' DON'T TOUCH :3 '''\n",
        "import os\n",
        "repo = 'fast_repo' if not testing else 'test'\n",
        "if os.path.exists(f'~/setup_{lang}.py'):\n",
        "    os.remove(f'~/setup_{lang}.py')\n",
        "!curl -sLo ~/setup_{lang}.py https://huggingface.co/NagisaNao/{repo}/raw/main/modules/setup_{lang}.py\n",
        "%run ~/setup_{lang}.py --lang {lang} --repo {repo}\n",
        "root_path = os.environ.get('ROOT_PATH')"
      ]
    },
    {
      "cell_type": "markdown",
      "metadata": {
        "id": "IpO6mjfh9nPZ"
      },
      "source": [
        "---\n",
        "## 1. Widgets 🔽"
      ]
    },
    {
      "cell_type": "code",
      "execution_count": null,
      "metadata": {
        "id": "ESev1FW19nPZ"
      },
      "outputs": [],
      "source": [
        "# Model selection, vae, control-net and other.\n",
        "\n",
        "%run {root_path}/file_cell/widgets_{lang}.py"
      ]
    },
    {
      "cell_type": "markdown",
      "metadata": {
        "id": "ceGlhVmz9nPa"
      },
      "source": [
        "## 2. Downloading 🔽"
      ]
    },
    {
      "cell_type": "code",
      "execution_count": null,
      "metadata": {
        "id": "RcS8VYwC9nPb"
      },
      "outputs": [],
      "source": [
        "# Downloading libraries, repos, models and other.\n",
        "\n",
        "%run {root_path}/file_cell/downloading_{lang}.py"
      ]
    },
    {
      "cell_type": "markdown",
      "metadata": {
        "id": "EcgFeRe29nPb"
      },
      "source": [
        "## 3. Launch 🔽"
      ]
    },
    {
      "cell_type": "code",
      "execution_count": null,
      "metadata": {
        "colab": {
          "background_save": true
        },
        "id": "qkF7MEcn9nPc"
      },
      "outputs": [],
      "source": [
        "# Launch WebUI.\n",
        "\n",
        "%run {root_path}/file_cell/launch_{lang}.py"
      ]
    },
    {
      "cell_type": "markdown",
      "metadata": {
        "id": "kOr5ryh6lrFT"
      },
      "source": [
        "---\n",
        "# Utilities"
      ]
    },
    {
      "cell_type": "code",
      "execution_count": null,
      "metadata": {
        "id": "Pjhp65r7lqhv"
      },
      "outputs": [],
      "source": [
        "# Launch AutoCleaner.\n",
        "\n",
        "%run {root_path}/file_cell/auto_cleaner_{lang}.py"
      ]
    }
  ],
  "metadata": {
    "accelerator": "GPU",
    "colab": {
      "gpuType": "T4",
      "provenance": []
    },
    "kaggle": {
      "accelerator": "nvidiaTeslaT4",
      "dataSources": [],
      "dockerImageVersionId": 30648,
      "isGpuEnabled": true,
      "isInternetEnabled": true,
      "language": "python",
      "sourceType": "notebook"
    },
    "kernelspec": {
      "display_name": "Python 3",
      "name": "python3"
    },
    "language_info": {
      "codemirror_mode": {
        "name": "ipython",
        "version": 3
      },
      "file_extension": ".py",
      "mimetype": "text/x-python",
      "name": "python",
      "nbconvert_exporter": "python",
      "pygments_lexer": "ipython3",
      "version": "3.10.13"
    }
  },
  "nbformat": 4,
  "nbformat_minor": 0
}